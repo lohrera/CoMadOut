{
 "cells": [
  {
   "cell_type": "markdown",
   "id": "aaf20e32",
   "metadata": {},
   "source": [
    "# CoMadOut - A Robust Outlier Detection Algorithm based on CoMAD"
   ]
  },
  {
   "cell_type": "markdown",
   "id": "5315efb5",
   "metadata": {},
   "source": [
    "Unsupervised learning methods are well established in the area of anomaly detection and achieve state of the art performances on outlier data sets. Outliers play a significant role, since they bear the potential to distort the predictions of a machine learning algorithm on a given data set. Especially among PCA-based methods, outliers have an additional destructive potential regarding the result: they may not only distort the orientation and translation of the principal components, they also make it more complicated to detect outliers. To address this problem, we propose the robust outlier detection algorithm CoMadOut, which satisfies two required properties: (1) being robust towards outliers and (2) detecting them. Our outlier detection method using coMAD-PCA defines dependent on its variant an inlier region with a robust noise margin by measures of in-distribution (ID) and out-of-distribution (OOD). These measures allow distribution based outlier scoring for each principal component, and thus, for an appropriate alignment of the decision boundary between normal and abnormal instances. Experiments comparing CoMadOut with traditional, deep and other comparable robust outlier detection methods showed that the performance of the introduced CoMadOut approach is competitive to well established methods related to average precision (AP), recall and area under the receiver operating characteristic (AUROC) curve. In summary our approach can be seen as a robust alternative for outlier detection tasks."
   ]
  },
  {
   "cell_type": "markdown",
   "id": "465e6368",
   "metadata": {},
   "source": [
    "This jupyter notebook and dependent imports contain the code for our paper \"CoMadOut - A Robust Outlier Detection Algorithm based on CoMAD\"."
   ]
  },
  {
   "cell_type": "code",
   "execution_count": null,
   "id": "bfdbaa1e",
   "metadata": {},
   "outputs": [],
   "source": []
  },
  {
   "cell_type": "code",
   "execution_count": null,
   "id": "1e8e7bdf",
   "metadata": {},
   "outputs": [],
   "source": [
    "import numpy as np\n",
    "import pandas as pd\n",
    "from datetime import datetime\n",
    "\n",
    "from src.evaluation import cmp, evaluate\n",
    "from src.evaluation import get_result_stats_df, get_average_results\n",
    "import warnings\n",
    "\n",
    "warnings.filterwarnings(\"ignore\", category=UserWarning)"
   ]
  },
  {
   "cell_type": "code",
   "execution_count": null,
   "id": "2802ef4d",
   "metadata": {},
   "outputs": [],
   "source": [
    "\n",
    "# n_components ratio\n",
    "#ratio=0.25\n",
    "ratio=0.999 \n",
    "\n",
    "lst_datasets=['arrhytmia', 'cardio', 'annthyroid', 'breastw', 'letter', 'thyroid', 'mammography', 'pima', 'musk', 'optdigits', 'pendigits', \n",
    "              'mnist', 'shuttle', 'satellite', 'satimage-2', 'wine', 'vowels', 'glass', 'wbc', 'boston']\n",
    "\n",
    "#lst_datasets = ['testdata'] \n",
    "\n",
    "runs=10\n",
    "decimals={'t':3,'m':9}\n",
    "resultdir='./results'\n",
    "datasets_dir = f\"./comadout_datasets\"\n",
    "ts = datetime.now().strftime(\"%Y%m%d%H%M%S\")"
   ]
  },
  {
   "cell_type": "code",
   "execution_count": null,
   "id": "31d8ac82",
   "metadata": {},
   "outputs": [],
   "source": [
    "# starts experiments...\n",
    "evaluate(datasets_dir, resultdir, ts, lst_datasets, ratio, runs, decimals)\n",
    "pd.read_csv(f\"{resultdir}/{ts}_datasets.csv\")"
   ]
  },
  {
   "cell_type": "code",
   "execution_count": null,
   "id": "e19b3f38",
   "metadata": {},
   "outputs": [],
   "source": []
  },
  {
   "cell_type": "code",
   "execution_count": null,
   "id": "2af49ef2",
   "metadata": {},
   "outputs": [],
   "source": [
    "dict_resultsap = get_average_results(resultdir, ts, 'ap')\n",
    "dict_resultsro = get_average_results(resultdir, ts, 'roc')\n",
    "dict_resultsrc = get_average_results(resultdir, ts, 'recall')\n",
    "dict_resultspn = get_average_results(resultdir, ts, 'prec_n')\n",
    "dict_resultst = get_average_results(resultdir, ts, 'runtime')"
   ]
  },
  {
   "cell_type": "code",
   "execution_count": null,
   "id": "725eb281",
   "metadata": {},
   "outputs": [],
   "source": []
  },
  {
   "cell_type": "code",
   "execution_count": null,
   "id": "32a5c036",
   "metadata": {},
   "outputs": [],
   "source": [
    "r_decs=3\n",
    "get_result_stats_df(dict_resultsap, decs=r_decs)"
   ]
  },
  {
   "cell_type": "code",
   "execution_count": null,
   "id": "d8b441c0",
   "metadata": {},
   "outputs": [],
   "source": [
    "get_result_stats_df(dict_resultsro, decs=r_decs)"
   ]
  },
  {
   "cell_type": "code",
   "execution_count": null,
   "id": "d8a99946",
   "metadata": {},
   "outputs": [],
   "source": [
    "get_result_stats_df(dict_resultsrc, decs=r_decs)"
   ]
  },
  {
   "cell_type": "code",
   "execution_count": null,
   "id": "224ddf2b",
   "metadata": {},
   "outputs": [],
   "source": [
    "get_result_stats_df(dict_resultspn, decs=r_decs)"
   ]
  },
  {
   "cell_type": "code",
   "execution_count": null,
   "id": "9ad68a76",
   "metadata": {},
   "outputs": [],
   "source": [
    "get_result_stats_df(dict_resultst, decs=r_decs, _max=False)"
   ]
  },
  {
   "cell_type": "code",
   "execution_count": null,
   "id": "66f29f6b",
   "metadata": {},
   "outputs": [],
   "source": []
  }
 ],
 "metadata": {
  "kernelspec": {
   "display_name": "Python 3 (ipykernel)",
   "language": "python",
   "name": "python3"
  },
  "language_info": {
   "codemirror_mode": {
    "name": "ipython",
    "version": 3
   },
   "file_extension": ".py",
   "mimetype": "text/x-python",
   "name": "python",
   "nbconvert_exporter": "python",
   "pygments_lexer": "ipython3",
   "version": "3.9.12"
  }
 },
 "nbformat": 4,
 "nbformat_minor": 5
}
